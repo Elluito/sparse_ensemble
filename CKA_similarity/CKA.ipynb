{
 "cells": [
  {
   "cell_type": "markdown",
   "metadata": {},
   "source": [
    "# CKA - Toy Example"
   ]
  },
  {
   "cell_type": "code",
   "execution_count": null,
   "metadata": {},
   "outputs": [],
   "source": [
    "import torch\n",
    "import numpy as np\n",
    "from CKA import CKA, CudaCKA"
   ]
  },
  {
   "cell_type": "markdown",
   "metadata": {},
   "source": [
    "# Numpy"
   ]
  },
  {
   "cell_type": "code",
   "execution_count": 6,
   "metadata": {},
   "outputs": [
    {
     "name": "stdout",
     "output_type": "stream",
     "text": [
      "Linear CKA, between X and Y: 0.010065926085323442\n",
      "Linear CKA, between X and X: 1.0\n",
      "RBF Kernel CKA, between X and Y: 0.01682517317497278\n",
      "RBF Kernel CKA, between X and X: 1.0\n",
      "CPU times: user 1h 15min 15s, sys: 26min 15s, total: 1h 41min 30s\n",
      "Wall time: 3min 8s\n"
     ]
    }
   ],
   "source": [
    "%%time\n",
    "\n",
    "np_cka = CKA()\n",
    "\n",
    "X = np.random.randn(10000, 100)\n",
    "Y = np.random.randn(10000, 100)\n",
    "\n",
    "print('Linear CKA, between X and Y: {}'.format(np_cka.linear_CKA(X, Y)))\n",
    "print('Linear CKA, between X and X: {}'.format(np_cka.linear_CKA(X, X)))\n",
    "\n",
    "print('RBF Kernel CKA, between X and Y: {}'.format(np_cka.kernel_CKA(X, Y)))\n",
    "print('RBF Kernel CKA, between X and X: {}'.format(np_cka.kernel_CKA(X, X)))"
   ]
  },
  {
   "cell_type": "markdown",
   "metadata": {},
   "source": [
    "# PyTorch with CUDA"
   ]
  },
  {
   "cell_type": "code",
   "execution_count": 4,
   "metadata": {},
   "outputs": [
    {
     "name": "stdout",
     "output_type": "stream",
     "text": [
      "Linear CKA, between X and Y: 0.009900251403450966\n",
      "Linear CKA, between X and X: 0.9999998807907104\n",
      "RBF Kernel CKA, between X and Y: 0.016650838777422905\n",
      "RBF Kernel CKA, between X and X: 0.9999999403953552\n",
      "CPU times: user 10.9 s, sys: 4.39 s, total: 15.3 s\n",
      "Wall time: 15.3 s\n"
     ]
    }
   ],
   "source": [
    "%%time\n",
    "\n",
    "device = torch.device('cuda:5')\n",
    "cuda_cka = CudaCKA(device)\n",
    "\n",
    "X = torch.randn(10000, 100, device=device)\n",
    "Y = torch.randn(10000, 100, device=device)\n",
    "\n",
    "print('Linear CKA, between X and Y: {}'.format(cuda_cka.linear_CKA(X, Y)))\n",
    "print('Linear CKA, between X and X: {}'.format(cuda_cka.linear_CKA(X, X)))\n",
    "\n",
    "print('RBF Kernel CKA, between X and Y: {}'.format(cuda_cka.kernel_CKA(X, Y)))\n",
    "print('RBF Kernel CKA, between X and X: {}'.format(cuda_cka.kernel_CKA(X, X)))"
   ]
  }
 ],
 "metadata": {
  "kernelspec": {
   "display_name": "Python 3",
   "language": "python",
   "name": "python3"
  },
  "language_info": {
   "codemirror_mode": {
    "name": "ipython",
    "version": 3
   },
   "file_extension": ".py",
   "mimetype": "text/x-python",
   "name": "python",
   "nbconvert_exporter": "python",
   "pygments_lexer": "ipython3",
   "version": "3.6.9"
  }
 },
 "nbformat": 4,
 "nbformat_minor": 4
}
